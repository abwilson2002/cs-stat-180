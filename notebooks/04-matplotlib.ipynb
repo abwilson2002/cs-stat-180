{
 "cells": [
  {
   "cell_type": "markdown",
   "metadata": {},
   "source": [
    "<a href=\"https://colab.research.google.com/github/rhodes-byu/cs-stat-180/blob/main/notebooks/04-matplotlib.ipynb\" target=\"_parent\"><img src=\"https://colab.research.google.com/assets/colab-badge.svg\" alt=\"Open In Colab\"/></a><p><b>After clicking the \"Open in Colab\" link, copy the notebook to your own Google Drive before getting started, or it will not save your work</b></p>"
   ]
  },
  {
   "cell_type": "markdown",
   "metadata": {},
   "source": [
    "## Introduction"
   ]
  },
  {
   "cell_type": "markdown",
   "metadata": {},
   "source": [
    "Matplotlib is the \"grandfather\" library of data visualization with Python. It was created to try to replicate MatLab's (another programming language) plotting capabilities in Python.  \n",
    "\n",
    "Matplotlib was originally released in 2003!  This predates Pandas (which was originally released in 2008), so it can feel a little clunky to modern users.  Having said that, it is still a great visualization package and you really can't talk about visualization in Python without some talk about Matplotlib.  \n",
    "\n",
    "Some of the major Pros of Matplotlib are:\n",
    "\n",
    "* Generally easy to get started for simple plots\n",
    "* Support for custom labels and texts\n",
    "* Great control of every element in a figure\n",
    "* High-quality output in many formats\n",
    "* Very customizable in general\n",
    "\n",
    "For more information, explore the official Maplotlib web page: https://matplotlib.org/.  Here you can find \n",
    "[examples (with code)](https://matplotlib.org/stable/gallery/index) for almost any kind of plot you want to create, a [quick start guide](https://matplotlib.org/stable/tutorials/introductory/quick_start.html), [cheat sheets](https://matplotlib.org/cheatsheets/), detailed official [documentation](https://matplotlib.org/stable/api/index.html) to the api, and more.  \n",
    "    \n",
    "## Importing"
   ]
  },
  {
   "cell_type": "markdown",
   "metadata": {},
   "source": [
    "It is standard to import the `matplotlib.pyplot` module with the alias `plt` :"
   ]
  },
  {
   "cell_type": "code",
   "execution_count": null,
   "metadata": {},
   "outputs": [],
   "source": [
    "import matplotlib.pyplot as plt\n",
    "import matplotlib\n",
    "import numpy as np"
   ]
  },
  {
   "cell_type": "markdown",
   "metadata": {
    "collapsed": true
   },
   "source": [
    "# Basic Example\n",
    "\n",
    "Let's walk through a very simple example using two numpy arrays:"
   ]
  },
  {
   "cell_type": "markdown",
   "metadata": {},
   "source": [
    "### Example\n",
    "\n",
    "Let's walk through a very simple example using two numpy arrays. You can also use lists or pandas columns.\n",
    "\n",
    "**The data we want to plot:**"
   ]
  },
  {
   "cell_type": "code",
   "execution_count": null,
   "metadata": {},
   "outputs": [],
   "source": [
    "x = np.linspace(-np.pi, np.pi, 50)\n",
    "cos_x = np.cos(x)\n",
    "sin_x = np.sin(x)"
   ]
  },
  {
   "cell_type": "markdown",
   "metadata": {},
   "source": [
    "## Basic Matplotlib Commands with *functions*\n",
    "\n",
    "We can create a very simple line plot using the `plt.plot()`"
   ]
  },
  {
   "cell_type": "code",
   "execution_count": null,
   "metadata": {},
   "outputs": [],
   "source": [
    "plt.plot(x, cos_x)"
   ]
  },
  {
   "cell_type": "markdown",
   "metadata": {},
   "source": [
    "We can create a very simple scatterplot using the `plt.scatter()`"
   ]
  },
  {
   "cell_type": "code",
   "execution_count": null,
   "metadata": {},
   "outputs": [],
   "source": [
    "plt.scatter(x, cos_x)"
   ]
  },
  {
   "cell_type": "markdown",
   "metadata": {},
   "source": [
    "____\n",
    "## Labels and titles"
   ]
  },
  {
   "cell_type": "markdown",
   "metadata": {},
   "source": [
    "Now that we have covered the basics of how to create a figure canvas and add axes instances to the canvas, let's look at how decorate a figure with titles, and axis labels."
   ]
  },
  {
   "cell_type": "markdown",
   "metadata": {},
   "source": [
    "**Figure titles**\n",
    "\n",
    "A title can be added to each axis instance in a figure. To set the title, use the `plt.title` method in the axes instance:"
   ]
  },
  {
   "cell_type": "markdown",
   "metadata": {},
   "source": [
    "**Axis labels**\n",
    "\n",
    "Similarly, with the methods `plt.xlabel` and `plt.ylabel`, we can set the labels of the X and Y axes:"
   ]
  },
  {
   "cell_type": "code",
   "execution_count": null,
   "metadata": {},
   "outputs": [],
   "source": [
    "# Generate basic plot\n",
    "plt.plot(x, cos_x)\n",
    "\n",
    "# Add some attributes\n",
    "plt.xlabel('X Axis Title')\n",
    "plt.ylabel('Y Axis Title')\n",
    "plt.title('Title')"
   ]
  },
  {
   "cell_type": "markdown",
   "metadata": {},
   "source": [
    "## Optional Arguments for scatteplot:\n",
    "\n",
    "**s:**          The size of the markers. It can be a single value or an array of the same length as x and y.  \n",
    "**c:**         The color of the markers. It can be a single color format string, or an array of numbers that will be mapped to colors using the cmap and norm parameters.  \n",
    "**marker:**     The style of the markers. Examples include 'o' for circles, 's' for squares, etc.  \n",
    "**cmap:**       A Colormap instance or a registered colormap name. This is used when c is an array of numbers.  \n",
    "**norm:**      A Normalize instance to scale data values to the range [0, 1].  \n",
    "**vmin:**       Minimum data value that corresponds to the colormap’s lower bound.  \n",
    "**vmax:**      Maximum data value that corresponds to the colormap’s upper bound.  \n",
    "**alpha:**      The alpha blending value, between 0 (transparent) and 1 (opaque).  \n",
    "**linewidths:** The width of the marker edges.  \n",
    "**edgecolors:** The color of the marker edges. It can be 'face', 'none', 'auto', or a color.  \n"
   ]
  },
  {
   "cell_type": "markdown",
   "metadata": {},
   "source": [
    "A list of matplotlib colors can be found [here](https://matplotlib.org/stable/gallery/color/named_colors.html).  \n",
    "Axes classes (e.g., plot, scatter, bar, etc.) can be found [here](https://matplotlib.org/stable/api/axes_api.html)."
   ]
  },
  {
   "cell_type": "markdown",
   "metadata": {
    "vscode": {
     "languageId": "markdown"
    }
   },
   "source": [
    "## Color Usage in Matplotlib\n",
    "\n",
    "In Matplotlib, colors can be specified in several ways to customize plots:\n",
    "\n",
    "- **color**: The `color` parameter is used to set the color of lines, markers, or other plot elements. It accepts named colors (e.g., `\"red\"`), hex codes (e.g., `\"#FF5733\"`), RGB(A) tuples, or grayscale strings (e.g., `\"0.5\"` for 50% gray).\n",
    "\n",
    "- **c**: The `c` parameter is commonly used in functions like `scatter()` to specify the color(s) of individual points. It can take a single color (like `color`), or an array of values that will be mapped to colors using a colormap (with the `cmap` parameter).\n",
    "\n",
    "**Summary:**  \n",
    "- Use `color` for setting a single color for a plot element.  \n",
    "- Use `c` for mapping data values to colors, especially in scatter plots and similar functions.\n",
    "- Colormaps (cmaps) available can be found here: [Matplotlib Colormaps](https://matplotlib.org/stable/users/explain/colors/colormaps.html)"
   ]
  },
  {
   "cell_type": "code",
   "execution_count": null,
   "metadata": {},
   "outputs": [],
   "source": [
    "# Using 'color' to set a single color for all points in a scatter plot\n",
    "plt.scatter(x, sin_x, color='tomato')\n",
    "plt.title(\"Scatter with single 'color'\")"
   ]
  },
  {
   "cell_type": "code",
   "execution_count": null,
   "metadata": {},
   "outputs": [],
   "source": [
    "# Using 'c' to map data values to colors in a scatter plot\n",
    "plt.scatter(x, sin_x, c=cos_x, cmap='viridis')\n",
    "plt.title(\"Scatter with 'c' mapped to cos_x\")\n",
    "plt.colorbar(label='cos_x value')"
   ]
  },
  {
   "cell_type": "code",
   "execution_count": null,
   "metadata": {},
   "outputs": [],
   "source": [
    "# Brigham Young University (BYU) official RGB colors\n",
    "\n",
    "# Matplotlib expects RGB values in the range [0, 1], so we need to normalize them\n",
    "byu_blue = (0/255, 46/255, 93/255)\n",
    "byu_royal = (0/255, 61/255, 165/255)\n",
    "byu_slate = (124/255, 135/255, 142/255)\n",
    "\n",
    "# Example plot using BYU colors\n",
    "plt.plot(x, cos_x + .5, color=byu_blue, label='BYU Blue')\n",
    "plt.plot(x, sin_x, color=byu_royal, label='BYU Royal')\n",
    "plt.plot(x, cos_x + sin_x, color=byu_slate, label='BYU Slate')\n",
    "\n",
    "plt.title(\"Example using BYU RGB Colors\")\n",
    "plt.legend()\n",
    "plt.show()"
   ]
  },
  {
   "cell_type": "markdown",
   "metadata": {},
   "source": [
    "## Line Width (`linewidth` or `lw`)\n",
    "\n",
    "We can make lines thicker or thinner.\n"
   ]
  },
  {
   "cell_type": "code",
   "execution_count": null,
   "metadata": {},
   "outputs": [],
   "source": [
    "x = np.linspace(0, 10, 100)\n",
    "\n",
    "plt.plot(x, x + 1, color=\"red\", linewidth=0.5, label=\"linewidth=0.5\")\n",
    "plt.plot(x, x + 2, color=\"red\", linewidth=1.5, label=\"linewidth=1.5\")\n",
    "plt.plot(x, x + 3, color=\"red\", linewidth=3.0, label=\"linewidth=3.0\")\n",
    "\n",
    "plt.ylim(0, 15)\n",
    "plt.legend()\n",
    "plt.title(\"Varying Line Widths\")\n",
    "plt.show()\n"
   ]
  },
  {
   "cell_type": "markdown",
   "metadata": {},
   "source": [
    "## Line Style (`linestyle` or `ls`)\n",
    "\n",
    "Common options are:\n",
    "- `'-'` solid  \n",
    "- `'--'` dashed  \n",
    "- `'-.'` dash-dot  \n",
    "- `':'` dotted  \n"
   ]
  },
  {
   "cell_type": "code",
   "execution_count": null,
   "metadata": {},
   "outputs": [],
   "source": [
    "plt.plot(x, x + 1, color=\"green\", lw=2, linestyle=\"-\", label=\"solid\")\n",
    "plt.plot(x, x + 2, color=\"green\", lw=2, linestyle=\"--\", label=\"dashed\")\n",
    "plt.plot(x, x + 3, color=\"green\", lw=2, linestyle=\"-.\", label=\"dash-dot\")\n",
    "plt.plot(x, x + 4, color=\"green\", lw=2, linestyle=\":\", label=\"dotted\")\n",
    "\n",
    "plt.ylim(0, 15)\n",
    "plt.legend()\n",
    "plt.title(\"Different Line Styles\")\n",
    "plt.show()\n"
   ]
  },
  {
   "cell_type": "markdown",
   "metadata": {},
   "source": [
    "## Markers (`marker`)\n",
    "\n",
    "We can add symbols at each data point.  \n",
    "Examples: `'o'` (circle), `'s'` (square), `'+'` (plus), `'*'` (star), `'1'` (tri-down).\n",
    "\n",
    "Additional markers can be found here: [Matplotlib Markers](https://matplotlib.org/stable/gallery/lines_bars_and_markers/marker_reference.html)\n"
   ]
  },
  {
   "cell_type": "code",
   "execution_count": null,
   "metadata": {},
   "outputs": [],
   "source": [
    "x = np.linspace(0, 10, 10)\n",
    "\n",
    "plt.plot(x, x + 1, color=\"blue\", lw=2, marker=\"+\", label=\"plus\")\n",
    "plt.plot(x, x + 2, color=\"blue\", lw=2, marker=\"o\", label=\"circle\")\n",
    "plt.plot(x, x + 3, color=\"blue\", lw=2, marker=\"s\", label=\"square\")\n",
    "plt.plot(x, x + 4, color=\"blue\", lw=2, marker=\"1\", label=\"tri-down\")\n",
    "\n",
    "plt.ylim(0, 15)\n",
    "plt.legend()\n",
    "plt.title(\"Different Markers\")\n",
    "plt.show()\n"
   ]
  },
  {
   "cell_type": "markdown",
   "metadata": {},
   "source": [
    "## Marker Size and Color\n",
    "\n",
    "We can customize markers further with:\n",
    "- `markersize` (or `ms`)  \n",
    "- `markerfacecolor` (fill color)  \n",
    "- `markeredgecolor` and `markeredgewidth`  \n"
   ]
  },
  {
   "cell_type": "code",
   "execution_count": null,
   "metadata": {},
   "outputs": [],
   "source": [
    "plt.plot(x, x + 1, color=\"purple\", lw=1, ls=\"-\", marker=\"o\", markersize=4, label=\"small circle\")\n",
    "plt.plot(x, x + 2, color=\"purple\", lw=1, ls=\"-\", marker=\"o\", markersize=8, markerfacecolor=\"red\", label=\"red fill\")\n",
    "plt.plot(x, x + 3, color=\"purple\", lw=1, ls=\"-\", marker=\"s\", markersize=10,\n",
    "         markerfacecolor=\"yellow\", markeredgewidth=2, markeredgecolor=\"green\", label=\"custom square\")\n",
    "\n",
    "plt.ylim(0, 15)\n",
    "plt.legend()\n",
    "plt.title(\"Marker Size and Color\")\n",
    "plt.show()\n"
   ]
  },
  {
   "cell_type": "code",
   "execution_count": null,
   "metadata": {},
   "outputs": [],
   "source": []
  },
  {
   "cell_type": "code",
   "execution_count": null,
   "metadata": {},
   "outputs": [],
   "source": [
    "# Original x\n",
    "x = np.linspace(-np.pi, np.pi, 50)"
   ]
  },
  {
   "cell_type": "markdown",
   "metadata": {},
   "source": [
    "## Multiple Plots (Axes) on the Same Figure"
   ]
  },
  {
   "cell_type": "markdown",
   "metadata": {},
   "source": [
    "plt.subplot(nrows, ncols, plot_number)"
   ]
  },
  {
   "cell_type": "code",
   "execution_count": null,
   "metadata": {},
   "outputs": [],
   "source": []
  },
  {
   "cell_type": "markdown",
   "metadata": {
    "vscode": {
     "languageId": "coffeescript"
    }
   },
   "source": [
    "## plt.subplots for multiple figures\n",
    "plt.subplots() is a convenient way to create a figure and a grid of subplots (axes) at once.\n",
    "It returns a tuple: (fig, axes), where 'fig' is the Figure object and 'axes' is an array of Axes objects.\n",
    "You can specify the number of rows and columns with nrows and ncols, and other options like figsize.\n",
    "\n",
    "### Common parameters:\n",
    "- nrows, ncols: number of rows and columns of subplots\n",
    "- figsize: size of the figure (width, height) in inches\n",
    "- sharex, sharey: share x/y axes among subplots\n",
    "- squeeze: if True, reduce the dimensionality of the axes array when possible"
   ]
  },
  {
   "cell_type": "code",
   "execution_count": null,
   "metadata": {},
   "outputs": [],
   "source": [
    "# Empty canvas of 1 by 2 subplots\n",
    "fig, axes = plt.subplots(nrows = 1, ncols = 2, sharey = True, figsize = (10, 5)) # figsize: (width, height)"
   ]
  },
  {
   "cell_type": "code",
   "execution_count": null,
   "metadata": {},
   "outputs": [],
   "source": [
    "# Axes is an array of axes to plot on\n",
    "axes"
   ]
  },
  {
   "cell_type": "code",
   "execution_count": null,
   "metadata": {},
   "outputs": [],
   "source": [
    "axes[0]"
   ]
  },
  {
   "cell_type": "markdown",
   "metadata": {},
   "source": [
    "We can iterate through this array:"
   ]
  },
  {
   "cell_type": "code",
   "execution_count": null,
   "metadata": {},
   "outputs": [],
   "source": [
    "axes[0].plot(x, cos_x, 'b')\n",
    "axes[0].set_xlabel('X Label 0')\n",
    "axes[0].set_ylabel('Y Label 0')\n",
    "axes[0].set_title('Title 0')\n",
    "\n",
    "\n",
    "axes[1].plot(x, sin_x, 'r')\n",
    "axes[1].set_xlabel('X Label 1')\n",
    "axes[1].set_ylabel('Y Label 1')\n",
    "axes[1].set_title('Title 1')\n",
    "\n",
    "\n",
    "# # Display the figure object    \n",
    "fig"
   ]
  },
  {
   "cell_type": "code",
   "execution_count": null,
   "metadata": {},
   "outputs": [],
   "source": [
    "fig, axes = plt.subplots(1, 2, sharey = True, figsize = (12, 6))\n",
    "\n",
    "axes[0].plot(x, sin_x, color = 'darkcyan')\n",
    "axes[0].set_xlabel('x')\n",
    "axes[0].set_ylabel('y')\n",
    "axes[0].set_title('title')\n",
    "\n",
    "axes[1].scatter(cos_x, sin_x)"
   ]
  },
  {
   "cell_type": "markdown",
   "metadata": {},
   "source": [
    "We can iterate through the axes. A common issue with matplolib is overlapping subplots or figures. We ca use **fig.tight_layout()** or **plt.tight_layout()** method, which automatically adjusts the positions of the axes on the figure canvas so that there is no overlapping content."
   ]
  },
  {
   "cell_type": "code",
   "execution_count": null,
   "metadata": {},
   "outputs": [],
   "source": [
    "fig, axes = plt.subplots(nrows = 1, ncols = 2, figsize = (10, 5))\n",
    "colors = ['firebrick', 'blue']\n",
    "\n",
    "for i, ax in enumerate(axes):\n",
    "    ax.plot(x, cos_x, color = colors[i])\n",
    "    ax.set_xlabel('x')\n",
    "    ax.set_ylabel('y')\n",
    "    ax.set_title(colors[i])\n",
    "\n",
    "fig    \n",
    "plt.tight_layout()"
   ]
  },
  {
   "cell_type": "markdown",
   "metadata": {},
   "source": [
    "We can have a matrix of plots."
   ]
  },
  {
   "cell_type": "code",
   "execution_count": null,
   "metadata": {},
   "outputs": [],
   "source": [
    "fig, axes = plt.subplots(2, 3)\n",
    "\n",
    "axes[0, 1].scatter(x, sin_x)\n",
    "axes[1, 2].plot(x, cos_x)"
   ]
  },
  {
   "cell_type": "markdown",
   "metadata": {},
   "source": [
    "### Looping through double axes."
   ]
  },
  {
   "cell_type": "code",
   "execution_count": null,
   "metadata": {},
   "outputs": [],
   "source": [
    "fig, axes = plt.subplots(2, 2, figsize = (12, 8))\n",
    "colors = ['blue', 'green', 'purple', 'orange']\n",
    "widths = [1, 1, 5, 10]\n",
    "\n",
    "for i, row in enumerate(axes):\n",
    "    for j, ax in enumerate(row):\n",
    "        ax.plot(x, cos_x, color = colors[i + j], linewidth = widths[i + j])\n",
    "        ax.set_title(f'Plot {i + j}')"
   ]
  },
  {
   "cell_type": "markdown",
   "metadata": {},
   "source": [
    "### Loop through axes with numpy.ravel()\n",
    "\n",
    "This allows you to use a single for loop as it flattens the array used to store the individual ax objects."
   ]
  },
  {
   "cell_type": "code",
   "execution_count": null,
   "metadata": {},
   "outputs": [],
   "source": [
    "fig, axes = plt.subplots(2, 2, figsize = (12, 8))\n",
    "colors = ['blue', 'green', 'purple', 'orange']\n",
    "widths = [1, 1, 5, 10]\n",
    "\n",
    "for i, ax in enumerate(axes.ravel()):\n",
    "    ax.plot(x, cos_x, x, sin_x + i, c = colors[i], linewidth = widths[i])\n",
    "\n",
    "    # if i == 0:\n",
    "    #     ax.scatter(x, sin_x)\n",
    "        \n",
    "    ax.set(title = colors[i].upper())\n",
    "\n",
    "plt.tight_layout()"
   ]
  },
  {
   "cell_type": "markdown",
   "metadata": {},
   "source": [
    "### Legends"
   ]
  },
  {
   "cell_type": "markdown",
   "metadata": {},
   "source": [
    "You can use the **label=\"label text\"** keyword argument when plots or other objects are added to the figure, and then using the **legend** method without arguments to add the legend to the figure: "
   ]
  },
  {
   "cell_type": "code",
   "execution_count": null,
   "metadata": {},
   "outputs": [],
   "source": [
    "fig = plt.figure()\n",
    "\n",
    "ax = fig.add_axes([0, 0, 1, 1])\n",
    "\n",
    "ax.plot(x, cos_x, label = \"cos\")\n",
    "ax.plot(x, sin_x, label = \"sin\")\n",
    "ax.legend(loc = 0)"
   ]
  },
  {
   "cell_type": "markdown",
   "metadata": {},
   "source": [
    "The **legend** function takes an optional keyword argument **loc** that can be used to specify where in the figure the legend is to be drawn. The allowed values of **loc** are numerical codes for the various places the legend can be drawn. See the [documentation page](http://matplotlib.org/users/legend_guide.html#legend-location) for details. Some of the most common **loc** values are:\n",
    "\n",
    "```\n",
    "ax.legend(loc = 0) # let matplotlib decide the optimal location\n",
    "ax.legend(loc = 1) # upper right corner \n",
    "ax.legend(loc = 2) # upper left corner\n",
    "ax.legend(loc = 3) # lower left corner\n",
    "ax.legend(loc = 4) # lower right corner\n",
    "```\n",
    "many more options are available\n",
    "\n",
    "you can also specify these using strings, such as `'best'`, `'upper right'`, `'lower right'`, etc."
   ]
  },
  {
   "cell_type": "code",
   "execution_count": null,
   "metadata": {},
   "outputs": [],
   "source": []
  },
  {
   "cell_type": "markdown",
   "metadata": {},
   "source": [
    "## Saving figures\n",
    "Matplotlib can generate high-quality output in a number formats, including PNG, JPG, EPS, SVG, PGF and PDF. "
   ]
  },
  {
   "cell_type": "markdown",
   "metadata": {},
   "source": [
    "To save a figure to a file we can use the `savefig` method in the `Figure` class:"
   ]
  },
  {
   "cell_type": "code",
   "execution_count": null,
   "metadata": {},
   "outputs": [],
   "source": [
    "fig.savefig(\"trigonometry.pdf\")"
   ]
  },
  {
   "cell_type": "markdown",
   "metadata": {},
   "source": [
    "For a tighter layout:"
   ]
  },
  {
   "cell_type": "code",
   "execution_count": null,
   "metadata": {},
   "outputs": [],
   "source": [
    "fig.savefig('trig_tight.pdf', bbox_inches = 'tight')"
   ]
  },
  {
   "cell_type": "markdown",
   "metadata": {},
   "source": [
    "Here we can also optionally specify the DPI and choose between different output formats:"
   ]
  },
  {
   "cell_type": "code",
   "execution_count": null,
   "metadata": {},
   "outputs": [],
   "source": [
    "fig.savefig(\"filename.png\", dpi = 200)"
   ]
  },
  {
   "cell_type": "markdown",
   "metadata": {},
   "source": [
    "# Other options"
   ]
  },
  {
   "cell_type": "markdown",
   "metadata": {},
   "source": [
    "## Plot range"
   ]
  },
  {
   "cell_type": "markdown",
   "metadata": {},
   "source": [
    "We can configure the ranges of the axes using the `set_ylim` and `set_xlim` methods in the axis object, or `axis('tight')` for automatically getting \"tightly fitted\" axes ranges:"
   ]
  },
  {
   "cell_type": "code",
   "execution_count": null,
   "metadata": {},
   "outputs": [],
   "source": [
    "fig, axes = plt.subplots(1, 2, figsize = (12, 4))\n",
    "\n",
    "axes[0].plot(x, cos_x, x, sin_x)\n",
    "axes[0].set_title(\"default axes ranges\")\n",
    "\n",
    "\n",
    "axes[1].plot(x, cos_x, x, sin_x)\n",
    "axes[1].set_ylim([-.5, .5])\n",
    "axes[1].set_xlim([-2, 0])\n",
    "axes[1].set_title(\"custom axes range\")"
   ]
  },
  {
   "cell_type": "markdown",
   "metadata": {},
   "source": [
    "#### Logarithmic scale"
   ]
  },
  {
   "cell_type": "markdown",
   "metadata": {},
   "source": [
    "It is also possible to set a logarithmic scale for one or both axes. This functionality is in fact only one application of a more general transformation system in Matplotlib. Each of the axes' scales are set seperately using `set_xscale` and `set_yscale` methods which accept one parameter (with the value \"log\" in this case):"
   ]
  },
  {
   "cell_type": "code",
   "execution_count": null,
   "metadata": {},
   "outputs": [],
   "source": [
    "xl = np.linspace(0, 1, 100)\n",
    "\n",
    "fig, axes = plt.subplots(1, 2, figsize=(10,4))\n",
    "      \n",
    "axes[0].plot(xl, xl**2, xl, np.exp(xl))\n",
    "axes[0].set_title(\"Normal scale\")\n",
    "\n",
    "axes[1].plot(xl, xl**2, xl, np.exp(xl))\n",
    "axes[1].set_yscale(\"log\")\n",
    "axes[1].set_title(\"Logarithmic scale (y)\");"
   ]
  },
  {
   "cell_type": "markdown",
   "metadata": {},
   "source": [
    "### Axis grid"
   ]
  },
  {
   "cell_type": "markdown",
   "metadata": {},
   "source": [
    "With the `grid` method in the axis object, we can turn on and off grid lines. We can also customize the appearance of the grid lines using the same keyword arguments as the `plot` function:"
   ]
  },
  {
   "cell_type": "code",
   "execution_count": null,
   "metadata": {},
   "outputs": [],
   "source": [
    "fig, axes = plt.subplots(1, 2, figsize=(10,3))\n",
    "\n",
    "# default grid appearance\n",
    "axes[0].plot(x, x**2, x, x**3, lw=2)\n",
    "axes[0].grid(True)\n",
    "\n",
    "# custom grid appearance\n",
    "axes[1].plot(x, x**2, x, x**3, lw=2)\n",
    "axes[1].grid(color='b', alpha=0.5, linestyle='dashed', linewidth=0.9)"
   ]
  },
  {
   "cell_type": "markdown",
   "metadata": {},
   "source": [
    "### Text annotation"
   ]
  },
  {
   "cell_type": "markdown",
   "metadata": {},
   "source": [
    "Annotating text in matplotlib figures can be done using the `text` function. It supports LaTeX formatting just like axis label texts and titles:"
   ]
  },
  {
   "cell_type": "code",
   "execution_count": null,
   "metadata": {},
   "outputs": [],
   "source": [
    "fig, ax = plt.subplots()\n",
    "\n",
    "xx = np.linspace(-0.75, 1., 100)\n",
    "ax.plot(xx, xx**2, xx, xx**3)\n",
    "\n",
    "ax.text(0.15, 0.2, r\"$y=x^2$\", fontsize=20, color=\"blue\")\n",
    "ax.text(0.65, 0.1, r\"$y=x^3$\", fontsize=20, color=\"green\")"
   ]
  },
  {
   "cell_type": "markdown",
   "metadata": {},
   "source": [
    "# Additional Plot Types\n",
    "\n",
    "There are many specialized plots we can create, such as barplots, histograms, scatter plots, and much more. Most of these type of plots we will create using seaborn, a statistical plotting library for Python. But here are a few examples of these type of plots:"
   ]
  },
  {
   "cell_type": "code",
   "execution_count": null,
   "metadata": {},
   "outputs": [],
   "source": [
    "from random import sample\n",
    "data = sample(range(1, 1000), 100)\n",
    "plt.hist(data)"
   ]
  },
  {
   "cell_type": "code",
   "execution_count": null,
   "metadata": {},
   "outputs": [],
   "source": [
    "data = [np.random.normal(0, std, 100) for std in range(1, 4)]\n",
    "\n",
    "# rectangular box plot\n",
    "plt.boxplot(data, vert = True);"
   ]
  },
  {
   "cell_type": "code",
   "execution_count": null,
   "metadata": {},
   "outputs": [],
   "source": [
    "# Violin Plot\n",
    "fig, ax = plt.subplots()\n",
    "ax.violinplot(data, showmeans=True, showmedians=True);"
   ]
  },
  {
   "cell_type": "code",
   "execution_count": null,
   "metadata": {},
   "outputs": [],
   "source": [
    "# Heatmap data\n",
    "data = np.random.rand(10, 10)\n",
    "\n",
    "# Create the heatmap\n",
    "fig, ax = plt.subplots()\n",
    "cax = ax.imshow(data, cmap='viridis')\n",
    "\n",
    "# Add colorbar\n",
    "fig.colorbar(cax)\n",
    "\n",
    "# Add labels\n",
    "ax.set_title('Heatmap Example')\n",
    "ax.set_xlabel('X Axis')\n",
    "ax.set_ylabel('Y Axis')\n",
    "\n",
    "plt.show()"
   ]
  },
  {
   "cell_type": "markdown",
   "metadata": {},
   "source": [
    "## Further reading"
   ]
  },
  {
   "cell_type": "markdown",
   "metadata": {},
   "source": [
    "* http://www.matplotlib.org - The project web page for matplotlib.\n",
    "* https://github.com/matplotlib/matplotlib - The source code for matplotlib.\n",
    "* http://matplotlib.org/gallery.html - A large gallery showcaseing various types of plots matplotlib can create. Highly recommended! \n",
    "* http://www.loria.fr/~rougier/teaching/matplotlib - A good matplotlib tutorial.\n",
    "* http://scipy-lectures.github.io/matplotlib/matplotlib.html - Another good matplotlib reference.\n"
   ]
  }
 ],
 "metadata": {
  "kernelspec": {
   "display_name": "base",
   "language": "python",
   "name": "python3"
  },
  "language_info": {
   "codemirror_mode": {
    "name": "ipython",
    "version": 3
   },
   "file_extension": ".py",
   "mimetype": "text/x-python",
   "name": "python",
   "nbconvert_exporter": "python",
   "pygments_lexer": "ipython3",
   "version": "3.11.4"
  }
 },
 "nbformat": 4,
 "nbformat_minor": 1
}
